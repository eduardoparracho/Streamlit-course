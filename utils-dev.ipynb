{
 "cells": [
  {
   "cell_type": "code",
   "execution_count": 1,
   "metadata": {},
   "outputs": [],
   "source": [
    "import pandas as pd"
   ]
  },
  {
   "cell_type": "code",
   "execution_count": 6,
   "metadata": {},
   "outputs": [],
   "source": [
    "def load_data():\n",
    "    df_sales = pd.read_csv(\"https://api.iea.org/evs?parameters=EVsales&category=Historical&mode=Cars&csv=true\")\n",
    "    df_charge = pd.read_csv(\"https://api.iea.org/evs?parameters=EVchargingpoints&category=Historical&mode=EV&csv=true\")\n",
    "    return df_sales, df_charge"
   ]
  },
  {
   "cell_type": "code",
   "execution_count": 8,
   "metadata": {},
   "outputs": [
    {
     "name": "stdout",
     "output_type": "stream",
     "text": [
      "      region    category       parameter  mode powertrain  year      unit  \\\n",
      "0  Australia  Historical  EV sales share  Cars         EV  2011   percent   \n",
      "1  Australia  Historical  EV stock share  Cars         EV  2011   percent   \n",
      "2  Australia  Historical        EV sales  Cars        BEV  2011  Vehicles   \n",
      "3  Australia  Historical        EV stock  Cars        BEV  2011  Vehicles   \n",
      "4  Australia  Historical        EV stock  Cars        BEV  2012  Vehicles   \n",
      "\n",
      "       value  \n",
      "0    0.00650  \n",
      "1    0.00039  \n",
      "2   49.00000  \n",
      "3   49.00000  \n",
      "4  220.00000  \n",
      "(3798, 8)\n",
      "      region    category           parameter mode               powertrain  \\\n",
      "0  Australia  Historical  EV charging points   EV  Publicly available fast   \n",
      "1  Australia  Historical  EV charging points   EV  Publicly available slow   \n",
      "2  Australia  Historical  EV charging points   EV  Publicly available fast   \n",
      "3  Australia  Historical  EV charging points   EV  Publicly available slow   \n",
      "4  Australia  Historical  EV charging points   EV  Publicly available slow   \n",
      "\n",
      "   year             unit   value  \n",
      "0  2017  charging points    40.0  \n",
      "1  2017  charging points   440.0  \n",
      "2  2018  charging points    61.0  \n",
      "3  2018  charging points   670.0  \n",
      "4  2019  charging points  1700.0  \n",
      "(750, 8)\n"
     ]
    }
   ],
   "source": [
    "df_sales, df_charge = load_data()\n",
    "\n",
    "print(df_sales.head(5))\n",
    "print(df_sales.shape)\n",
    "print(df_charge.head(5))\n",
    "print(df_charge.shape)"
   ]
  }
 ],
 "metadata": {
  "kernelspec": {
   "display_name": "streamlit-course",
   "language": "python",
   "name": "python3"
  },
  "language_info": {
   "codemirror_mode": {
    "name": "ipython",
    "version": 3
   },
   "file_extension": ".py",
   "mimetype": "text/x-python",
   "name": "python",
   "nbconvert_exporter": "python",
   "pygments_lexer": "ipython3",
   "version": "3.12.7"
  }
 },
 "nbformat": 4,
 "nbformat_minor": 2
}
